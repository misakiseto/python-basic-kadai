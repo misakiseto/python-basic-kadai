{
  "nbformat": 4,
  "nbformat_minor": 0,
  "metadata": {
    "colab": {
      "provenance": []
    },
    "kernelspec": {
      "name": "python3",
      "display_name": "Python 3"
    },
    "language_info": {
      "name": "python"
    }
  },
  "cells": [
    {
      "cell_type": "code",
      "source": [
        "class Human:\n",
        "   def __init__(self, name, age):\n",
        "     self.name = name\n",
        "     self.age = age\n",
        "\n",
        "   def printinfo(self):\n",
        "       print(f\"名前:{self.name},年齢:{self.age}\")\n",
        "\n",
        "person = Human(\"山田太郎\",30)\n",
        "\n",
        "person.printinfo()"
      ],
      "metadata": {
        "colab": {
          "base_uri": "https://localhost:8080/"
        },
        "id": "UFEdB5fNx39-",
        "outputId": "ec44d880-fb73-4231-a56a-4b5667c7ec3d"
      },
      "execution_count": 10,
      "outputs": [
        {
          "output_type": "stream",
          "name": "stdout",
          "text": [
            "名前:山田太郎,年齢:30\n"
          ]
        }
      ]
    }
  ]
}