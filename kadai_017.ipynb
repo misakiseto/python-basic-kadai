{
  "nbformat": 4,
  "nbformat_minor": 0,
  "metadata": {
    "colab": {
      "provenance": []
    },
    "kernelspec": {
      "name": "python3",
      "display_name": "Python 3"
    },
    "language_info": {
      "name": "python"
    }
  },
  "cells": [
    {
      "cell_type": "code",
      "source": [
        "class Human:\n",
        "  def __init__(self,name,age):\n",
        "    self.name = name\n",
        "    self.age = age\n",
        "  def sheck_adult(self):\n",
        "    if self.age >= 20:\n",
        "      return f\"{self.name}さんは大人です。\"\n",
        "    else:\n",
        "      return f\"{self.name}さんは大人ではありません。\"\n",
        "\n",
        "  def createhuman_list(data_list):\n",
        "    human_list = []\n",
        "    for human in human_list:\n",
        "      print(human.sheck_adult())\n",
        "\n",
        "  data_list = [\n",
        "      {\"name\": \"一郎\", \"age\": 25},\n",
        "      {\"name\": \"次郎\", \"age\": 20},\n",
        "      {\"name\": \"三郎\", \"age\": 15}\n",
        "  ]\n",
        "\n",
        "  humans = create_human_list(data_list)\n",
        "\n",
        "  print_adult_status(humans)"
      ],
      "metadata": {
        "colab": {
          "base_uri": "https://localhost:8080/"
        },
        "id": "22XHUZvzdgIb",
        "outputId": "a195356d-2836-4ae4-8d63-8e15c513b9a6"
      },
      "execution_count": 4,
      "outputs": [
        {
          "output_type": "stream",
          "name": "stdout",
          "text": [
            "一郎さんは大人です。\n",
            "次郎さんは大人です。\n",
            "三郎さんは大人ではありません。\n"
          ]
        }
      ]
    }
  ]
}