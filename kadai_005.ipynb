{
  "cells": [
    {
      "cell_type": "code",
      "execution_count": null,
      "metadata": {
        "id": "gjipsZFu7AFU"
      },
      "outputs": [],
      "source": [
        "num1 = 10\n",
        "num2 = 20\n",
        "num3 = 5\n",
        "print((num1 + num2) * num3 / 2 , \"㎠\")\n"
      ]
    }
  ],
  "metadata": {
    "colab": {
      "provenance": []
    },
    "kernelspec": {
      "display_name": "Python 3",
      "name": "python3"
    },
    "language_info": {
      "name": "python"
    }
  },
  "nbformat": 4,
  "nbformat_minor": 0
}
