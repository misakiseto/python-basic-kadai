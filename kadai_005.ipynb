{
  "cells": [
    {
      "cell_type": "code",
      "execution_count": null,
      "metadata": {
        "id": "gjipsZFu7AFU"
      },
      "outputs": [],
      "source": [
        "top_base = 10\n",
        "bottom_base = 20\n",
        "height = 5\n",
        "print((top_base + bottom_base) * height / 2 , \"㎝2\")\n"
      ]
    }
  ],
  "metadata": {
    "colab": {
      "provenance": []
    },
    "kernelspec": {
      "display_name": "Python 3",
      "name": "python3"
    },
    "language_info": {
      "name": "python"
    }
  },
  "nbformat": 4,
  "nbformat_minor": 0
}
