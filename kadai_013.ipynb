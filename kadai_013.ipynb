{
  "nbformat": 4,
  "nbformat_minor": 0,
  "metadata": {
    "colab": {
      "provenance": []
    },
    "kernelspec": {
      "name": "python3",
      "display_name": "Python 3"
    },
    "language_info": {
      "name": "python"
    }
  },
  "cells": [
    {
      "cell_type": "code",
      "source": [
        "def calculate_total_price(price, tax_rate):\n",
        "\n",
        "    tax_amount = price * (tax_rate / 100)\n",
        "    total_price = price + tax_amount\n",
        "    return total_price\n",
        "\n",
        "price = 1000\n",
        "tax_rate = 10\n",
        "\n",
        "total = calculate_total_price(price, tax_rate)\n",
        "print(f\"消費税を加えた合計金額は{total}円です。\")\n"
      ],
      "metadata": {
        "colab": {
          "base_uri": "https://localhost:8080/"
        },
        "id": "L4MrSmqBro60",
        "outputId": "88ccb1ec-5dab-45d4-e1ed-d8a6b6e61d92"
      },
      "execution_count": 14,
      "outputs": [
        {
          "output_type": "stream",
          "name": "stdout",
          "text": [
            "消費税を加えた合計金額は1100.0円です。\n"
          ]
        }
      ]
    }
  ]
}