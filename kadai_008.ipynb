{
  "nbformat": 4,
  "nbformat_minor": 0,
  "metadata": {
    "colab": {
      "provenance": []
    },
    "kernelspec": {
      "name": "python3",
      "display_name": "Python 3"
    },
    "language_info": {
      "name": "python"
    }
  },
  "cells": [
    {
      "cell_type": "code",
      "source": [
        "ver = 15\n",
        "\n",
        "if ver % 3 == 0 and ver % 5 == 0:\n",
        "    print(f\"FizzBuzz\")\n",
        "elif ver % 3 == 0:\n",
        "    print(f\"Fizz\")\n",
        "elif ver % 5 == 0:\n",
        "    print(f\"Buzz\")\n",
        "else:\n",
        "    print(ver)\n"
      ],
      "metadata": {
        "colab": {
          "base_uri": "https://localhost:8080/"
        },
        "id": "lhr5vMD5Ns-o",
        "outputId": "ad57bcc8-ca6d-4d63-9f48-52c008162f45"
      },
      "execution_count": 11,
      "outputs": [
        {
          "output_type": "stream",
          "name": "stdout",
          "text": [
            "FizzBuzz\n"
          ]
        }
      ]
    }
  ]
}